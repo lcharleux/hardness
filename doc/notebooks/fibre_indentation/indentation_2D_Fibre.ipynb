{
 "cells": [
  {
   "cell_type": "markdown",
   "metadata": {},
   "source": [
    "# 2D indentation of a fibre in a matrix\n",
    "\n"
   ]
  },
  {
   "cell_type": "code",
   "execution_count": null,
   "metadata": {},
   "outputs": [],
   "source": [
    "%matplotlib widget\n",
    "import matplotlib.pyplot as plt\n",
    "import matplotlib as mpl\n",
    "import hardness as hd\n",
    "import argiope as ag\n",
    "import pandas as pd\n",
    "import numpy as np\n",
    "import os, subprocess, time, local_settings, time\n",
    "\n",
    "\n",
    "mpl.rcParams[\"grid.color\"] = \"k\"\n",
    "mpl.rcParams[\"grid.linestyle\"] = \":\"\n",
    "mpl.rcParams[\"grid.linewidth\"] = 0.5\n",
    "mpl.rcParams[\"contour.negative_linestyle\"] = \"solid\"\n",
    "\n",
    "\n",
    "# USEFUL FUNCTIONS\n",
    "def create_dir(path):\n",
    "    try:\n",
    "        os.mkdir(path)\n",
    "    except:\n",
    "        pass"
   ]
  },
  {
   "cell_type": "markdown",
   "metadata": {},
   "source": [
    "## Settings"
   ]
  },
  {
   "cell_type": "code",
   "execution_count": null,
   "metadata": {},
   "outputs": [],
   "source": [
    "# SETTINGS\n",
    "workdir = \"workdir/\"\n",
    "outputdir = \"outputs/\"\n",
    "label = \"indentation_2D\"\n",
    "\n",
    "create_dir(workdir)\n",
    "create_dir(workdir + outputdir)"
   ]
  },
  {
   "cell_type": "markdown",
   "metadata": {},
   "source": [
    "## Model definition"
   ]
  },
  {
   "cell_type": "code",
   "execution_count": null,
   "metadata": {},
   "outputs": [],
   "source": [
    "# -------------------------------------------------------------------------------\n",
    "# MESH DEFINITIONS\n",
    "def element_map(mesh):\n",
    "    mesh.elements.loc[\n",
    "        mesh.elements.type.argiope == \"tri3\", (\"type\", \"solver\", \"\")\n",
    "    ] = \"CAX3\"\n",
    "    mesh.elements.loc[\n",
    "        mesh.elements.type.argiope == \"quad4\", (\"type\", \"solver\", \"\")\n",
    "    ] = \"CAX4\"\n",
    "    return mesh\n",
    "\n",
    "\n",
    "def sample_material_map(mesh):\n",
    "    mesh.elements.loc[mesh.elements.sets.FIBRE, \"materials\"] = \"FIBRE_MAT\"\n",
    "    mesh.elements.loc[mesh.elements.sets.MATRIX, \"materials\"] = \"MATRIX_MAT\"\n",
    "    return mesh\n",
    "\n",
    "\n",
    "def indenter_material_map(mesh):\n",
    "    mesh.elements[\"materials\"] = \"INDENTER_MAT\"\n",
    "    return mesh\n",
    "\n",
    "\n",
    "parts = {\n",
    "    \"sample\": hd.models.SampleFibre2D(\n",
    "        Rf=1.0,\n",
    "        ly1=1.0,\n",
    "        ly2=5.0,\n",
    "        Nx=16,\n",
    "        Ny=8,\n",
    "        Nr=8,\n",
    "        Nt=None,\n",
    "        gmsh_path=\"gmsh\",\n",
    "        file_name=\"dummy\",\n",
    "        workdir=workdir,\n",
    "        gmsh_space=2,\n",
    "        gmsh_options=\"-algo 'delquad'\",\n",
    "        element_map=element_map,\n",
    "        material_map=sample_material_map,\n",
    "    ),\n",
    "    \"indenter\": hd.models.SpheroconicalIndenter2D(\n",
    "        R=1.0,\n",
    "        psi=70.3,\n",
    "        r1=1.0,\n",
    "        r2=3.0,\n",
    "        r3=3.0,\n",
    "        lc1=0.1,\n",
    "        lc2=0.5,\n",
    "        rigid=False,\n",
    "        gmsh_path=\"gmsh\",\n",
    "        file_name=\"dummy\",\n",
    "        workdir=workdir,\n",
    "        gmsh_space=2,\n",
    "        gmsh_options=\"-algo 'delquad'\",\n",
    "        element_map=element_map,\n",
    "        material_map=indenter_material_map,\n",
    "    ),\n",
    "}\n",
    "\n",
    "materials = [\n",
    "    ag.materials.ElasticPerfectlyPlastic(\n",
    "        label=\"MATRIX_MAT\", young_modulus=0.1, poisson_ratio=0.3, yield_stress=0.001\n",
    "    ),\n",
    "    ag.materials.Elastic(label=\"INDENTER_MAT\", young_modulus=1.0, poisson_ratio=0.3),\n",
    "    ag.materials.Elastic(label=\"FIBRE_MAT\", young_modulus=0.4, poisson_ratio=0.3),\n",
    "]\n",
    "\n",
    "# -------------------------------------------------------------------------------\n",
    "# STEP DEFINTIONS\n",
    "steps = [\n",
    "    hd.models.Step2D(\n",
    "        name=\"LOADING1\",\n",
    "        control_type=\"disp\",\n",
    "        duration=1.0,\n",
    "        kind=\"adaptative\",\n",
    "        nframes=100,\n",
    "        controlled_value=-0.2,\n",
    "        field_output_frequency=99999,\n",
    "    ),\n",
    "    hd.models.Step2D(\n",
    "        name=\"UNLOADING1\",\n",
    "        control_type=\"force\",\n",
    "        duration=1.0,\n",
    "        kind=\"adaptative\",\n",
    "        nframes=100,\n",
    "        controlled_value=0.0,\n",
    "        field_output_frequency=99999,\n",
    "    ),\n",
    "    hd.models.Step2D(\n",
    "        name=\"RELOADING1\",\n",
    "        control_type=\"disp\",\n",
    "        duration=1.0,\n",
    "        kind=\"adaptative\",\n",
    "        nframes=100,\n",
    "        controlled_value=-0.2,\n",
    "        field_output_frequency=99999,\n",
    "    ),\n",
    "    hd.models.Step2D(\n",
    "        name=\"LOADING2\",\n",
    "        control_type=\"disp\",\n",
    "        duration=1.0,\n",
    "        kind=\"adaptative\",\n",
    "        nframes=100,\n",
    "        controlled_value=-0.4,\n",
    "        field_output_frequency=99999,\n",
    "    ),\n",
    "    hd.models.Step2D(\n",
    "        name=\"UNLOADING2\",\n",
    "        control_type=\"force\",\n",
    "        kind=\"adaptative\",\n",
    "        duration=1.0,\n",
    "        nframes=50,\n",
    "        controlled_value=0.0,\n",
    "        field_output_frequency=99999,\n",
    "    ),\n",
    "]\n",
    "\n",
    "model0 = hd.models.Indentation2D(\n",
    "    label=label,\n",
    "    parts=parts,\n",
    "    steps=steps,\n",
    "    materials=materials,\n",
    "    solver=\"abaqus\",\n",
    "    solver_path=local_settings.ABAQUS_PATH,\n",
    "    workdir=workdir,\n",
    "    verbose=True,\n",
    ")"
   ]
  },
  {
   "cell_type": "code",
   "execution_count": null,
   "metadata": {},
   "outputs": [],
   "source": [
    "print(\"1: Preprocessing ----------------------------------\")\n",
    "%time model0.write_input()\n",
    "print(\"2: Processing -------------------------------------\")\n",
    "%time model0.run_simulation()\n",
    "print(\"3: Postprocessing ---------------------------------\")\n",
    "%time model0.postproc()\n",
    "print(\"4: Saving model -----------------------------------\")\n",
    "%time model0.save(workdir + \"model.pcklz\")"
   ]
  },
  {
   "cell_type": "code",
   "execution_count": null,
   "metadata": {},
   "outputs": [],
   "source": [
    "model = ag.utils.load(workdir + \"model.pcklz\")"
   ]
  },
  {
   "cell_type": "markdown",
   "metadata": {},
   "source": [
    "## Model checking\n",
    "\n",
    "Mesh building and quality checking."
   ]
  },
  {
   "cell_type": "code",
   "execution_count": null,
   "metadata": {},
   "outputs": [],
   "source": [
    "model.parts[\"indenter\"].mesh.elements.head()"
   ]
  },
  {
   "cell_type": "code",
   "execution_count": null,
   "metadata": {},
   "outputs": [],
   "source": [
    "model.parts[\"sample\"].mesh.elements.head()"
   ]
  },
  {
   "cell_type": "code",
   "execution_count": null,
   "metadata": {},
   "outputs": [],
   "source": [
    "parts = model.parts\n",
    "i = 1\n",
    "fig = plt.figure()\n",
    "parts_names = parts.keys()\n",
    "for name, part in parts.items():\n",
    "    mesh = part.mesh\n",
    "    patches = mesh.to_polycollection(edgecolor=\"black\", linewidth=0.5, alpha=1.0)\n",
    "    stats = mesh.stats()\n",
    "    patches.set_array(stats.stats.max_abs_angular_deviation)\n",
    "    patches.set_cmap(mpl.cm.YlOrRd)\n",
    "    ax = fig.add_subplot(1, 2, i)\n",
    "    ax.set_aspect(\"equal\")\n",
    "    ax.set_xlim(mesh.nodes.coords.x.min(), mesh.nodes.coords.x.max())\n",
    "    ax.set_ylim(mesh.nodes.coords.y.min(), mesh.nodes.coords.y.max())\n",
    "    ax.add_collection(patches)\n",
    "    cbar = plt.colorbar(patches, orientation=\"horizontal\")\n",
    "    cbar.set_label(\"Max Abs. Angular Deviation [$^o$]\")\n",
    "    plt.xlabel(\"$x$\")\n",
    "    plt.ylabel(\"$y$\")\n",
    "    plt.grid()\n",
    "    plt.title(name.title())\n",
    "    i += 1\n",
    "plt.show()"
   ]
  },
  {
   "cell_type": "markdown",
   "metadata": {},
   "source": [
    "## Simulation"
   ]
  },
  {
   "cell_type": "markdown",
   "metadata": {},
   "source": [
    "## Post-Processing\n",
    "\n",
    "### Time data\n"
   ]
  },
  {
   "cell_type": "code",
   "execution_count": null,
   "metadata": {},
   "outputs": [],
   "source": [
    "hist = model.data[\"history\"]\n",
    "hist.head()"
   ]
  },
  {
   "cell_type": "code",
   "execution_count": null,
   "metadata": {},
   "outputs": [],
   "source": [
    "plt.figure()\n",
    "for step, group in hist.groupby(\"step\"):\n",
    "    plt.plot(group.disp.htot, group.force.F, label=\"Step {0}\".format(step))\n",
    "plt.grid()\n",
    "plt.legend(loc=\"best\")\n",
    "plt.ylabel(\"Total force $F$, []\")\n",
    "plt.xlabel(\"Displacement, $\\delta$ []\")\n",
    "plt.show()"
   ]
  },
  {
   "cell_type": "markdown",
   "metadata": {},
   "source": [
    "### Fields"
   ]
  },
  {
   "cell_type": "code",
   "execution_count": null,
   "metadata": {},
   "outputs": [],
   "source": [
    "model.parts[\"sample\"].mesh.fields_metadata()"
   ]
  },
  {
   "cell_type": "code",
   "execution_count": null,
   "metadata": {},
   "outputs": [],
   "source": [
    "model.parts[\"sample\"].mesh.fields_metadata()"
   ]
  },
  {
   "cell_type": "code",
   "execution_count": null,
   "metadata": {},
   "outputs": [],
   "source": [
    "parts = {k: part.mesh.copy() for k, part in model.parts.items()}\n",
    "\n",
    "fig = plt.figure()\n",
    "ax = fig.add_subplot(1, 1, 1)\n",
    "ax.set_aspect(\"equal\")\n",
    "ax.set_xlim(0.0, 3.0)\n",
    "ax.set_ylim(-2.0, 2.0)\n",
    "\n",
    "field_num = 14\n",
    "disp_num = 15\n",
    "levels = np.linspace(-1.0e-1, 1.0e-1, 11)\n",
    "\n",
    "for k, mesh in parts.items():\n",
    "    field = mesh.fields[field_num].data.v22\n",
    "    disp = mesh.fields[disp_num].data\n",
    "    mesh.nodes[(\"coords\", \"x\")] += disp.v1\n",
    "    mesh.nodes[(\"coords\", \"y\")] += disp.v2\n",
    "    tri = mesh.to_triangulation()\n",
    "    patches = mesh.to_polycollection(facecolor=\"none\", edgecolor=\"black\", linewidth=0.5)\n",
    "    grad = ax.tricontourf(tri, field, levels, cmap=mpl.cm.terrain, alpha=1)\n",
    "    ax.tricontour(tri, field, levels, colors=\"white\", linewidths=1.0)\n",
    "    ax.add_collection(patches)\n",
    "cbar = plt.colorbar(grad)\n",
    "cbar.set_label(\"Cauchy Stress, $\\sigma_{12}$\")\n",
    "plt.xlabel(\"$x$\")\n",
    "plt.ylabel(\"$y$\")\n",
    "# plt.grid()"
   ]
  },
  {
   "cell_type": "code",
   "execution_count": null,
   "metadata": {},
   "outputs": [],
   "source": [
    "parts[\"indenter\"].fields"
   ]
  },
  {
   "cell_type": "code",
   "execution_count": null,
   "metadata": {},
   "outputs": [],
   "source": [
    "mesh = parts[\"sample\"]\n",
    "tag = \"SURFACE\"\n",
    "\n",
    "nodes = mesh.nodes.copy()\n",
    "dummy = nodes.iloc[0].copy()\n",
    "dummy[\"coords\"] *= np.nan\n",
    "dummy[\"sets\"] = True\n",
    "nodes.loc[0] = dummy\n",
    "# Getting element surfaces\n",
    "element_surfaces = mesh.split(\"surfaces\").unstack()\n",
    "# killer hack !\n",
    "surf = (\n",
    "    pd.DataFrame(\n",
    "        nodes.sets[tag]\n",
    "        .loc[element_surfaces.values.flatten()]\n",
    "        .values.reshape(element_surfaces.shape)\n",
    "        .prod(axis=1)\n",
    "        .astype(np.bool_),\n",
    "        index=element_surfaces.index,\n",
    "    )\n",
    "    .unstack()\n",
    "    .astype(float)\n",
    "    .fillna(0)\n",
    "    .astype(bool)\n",
    ")  # .fillna(False)\n",
    "for k in surf.keys():\n",
    "    mesh.elements[\"surfaces\", tag, \"f{0}\".format(k[1] + 1)] = surf.loc[:, k]"
   ]
  },
  {
   "cell_type": "markdown",
   "metadata": {},
   "source": [
    "mesh"
   ]
  },
  {
   "cell_type": "code",
   "execution_count": null,
   "metadata": {},
   "outputs": [],
   "source": [
    "surf.astype(float).fillna(0).astype(bool)"
   ]
  },
  {
   "cell_type": "code",
   "execution_count": null,
   "metadata": {},
   "outputs": [],
   "source": []
  },
  {
   "cell_type": "code",
   "execution_count": null,
   "metadata": {},
   "outputs": [],
   "source": []
  }
 ],
 "metadata": {
  "anaconda-cloud": {},
  "kernelspec": {
   "display_name": "Python 3 (ipykernel)",
   "language": "python",
   "name": "python3"
  },
  "language_info": {
   "codemirror_mode": {
    "name": "ipython",
    "version": 3
   },
   "file_extension": ".py",
   "mimetype": "text/x-python",
   "name": "python",
   "nbconvert_exporter": "python",
   "pygments_lexer": "ipython3",
   "version": "3.10.16"
  }
 },
 "nbformat": 4,
 "nbformat_minor": 4
}
